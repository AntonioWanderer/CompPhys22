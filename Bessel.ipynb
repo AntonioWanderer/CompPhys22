{
  "nbformat": 4,
  "nbformat_minor": 0,
  "metadata": {
    "colab": {
      "provenance": [],
      "authorship_tag": "ABX9TyNxsiOhgg70aRbdoEPFJDZE",
      "include_colab_link": true
    },
    "kernelspec": {
      "name": "python3",
      "display_name": "Python 3"
    },
    "language_info": {
      "name": "python"
    }
  },
  "cells": [
    {
      "cell_type": "markdown",
      "metadata": {
        "id": "view-in-github",
        "colab_type": "text"
      },
      "source": [
        "<a href=\"https://colab.research.google.com/github/AntonioWanderer/CompPhys22/blob/main/Bessel.ipynb\" target=\"_parent\"><img src=\"https://colab.research.google.com/assets/colab-badge.svg\" alt=\"Open In Colab\"/></a>"
      ]
    },
    {
      "cell_type": "code",
      "execution_count": 51,
      "metadata": {
        "id": "0H0RcRElEIdG"
      },
      "outputs": [],
      "source": [
        "from math import *\n",
        "import matplotlib.pyplot as plt"
      ]
    },
    {
      "cell_type": "code",
      "source": [
        "def bessel(m, t, x):\n",
        "  y = cos(m*t - x * sin(t))\n",
        "  return y"
      ],
      "metadata": {
        "id": "fpH0gr27EM_P"
      },
      "execution_count": 52,
      "outputs": []
    },
    {
      "cell_type": "code",
      "source": [
        "def J(m, x0, dx):\n",
        "  s=0\n",
        "  k = int(2*pi/dx)\n",
        "  for i in range(k):\n",
        "    s = s + (bessel(m,i*dx,x0)+bessel(m,(i+1)*dx,x0))*dx/2\n",
        "  return 2/pi*s"
      ],
      "metadata": {
        "id": "apWaKubTEmLh"
      },
      "execution_count": 53,
      "outputs": []
    },
    {
      "cell_type": "code",
      "source": [
        "def errFind(x, dx):\n",
        "  #y = (-J(0,x-dx,dx)+J(0,x+dx,dx))/(2*dx) + J(1,x,dx) #1 accuracy\n",
        "  #y = (1/12*J(0,x-2*dx,dx)-2/3*J(0,x-dx,dx)+2/3*J(0,x+dx,dx)-1/12*J(0,x+2*dx,dx))/dx + J(1,x,dx) #2 accuracy\n",
        "  y = (-1/60*J(0,x-3*dx,dx)+3/20*J(0,x-2*dx,dx)-3/4*J(0,x-dx,dx)+3/4*J(0,x+dx,dx)-3/20*J(0,x+2*dx,dx)+1/60*J(0,x+3*dx,dx))/dx + J(1,x,dx) #3 accuracy\n",
        "  return y"
      ],
      "metadata": {
        "id": "_VZyiDiiFjkI"
      },
      "execution_count": 54,
      "outputs": []
    },
    {
      "cell_type": "markdown",
      "source": [
        "Coefficients source https://ru.wikipedia.org/wiki/%D0%9A%D0%BE%D1%8D%D1%84%D1%84%D0%B8%D1%86%D0%B8%D0%B5%D0%BD%D1%82%D1%8B_%D1%84%D0%BE%D1%80%D0%BC%D1%83%D0%BB_%D1%87%D0%B8%D1%81%D0%BB%D0%B5%D0%BD%D0%BD%D0%BE%D0%B3%D0%BE_%D0%B4%D0%B8%D1%84%D1%84%D0%B5%D1%80%D0%B5%D0%BD%D1%86%D0%B8%D1%80%D0%BE%D0%B2%D0%B0%D0%BD%D0%B8%D1%8F"
      ],
      "metadata": {
        "id": "tiGTFQTObTFU"
      }
    },
    {
      "cell_type": "code",
      "source": [
        "dx = 2*pi/3000\n",
        "print(dx)\n",
        "ly = []\n",
        "lx = []\n",
        "steps = 10\n",
        "for i in range(steps):\n",
        "  x = 2*pi/steps*i\n",
        "  y = errFind(x, dx)\n",
        "  lx.append(x)\n",
        "  ly.append(y)\n",
        "plt.plot(lx,ly)\n",
        "plt.show()\n",
        "print(max([abs(l) for l in ly]))"
      ],
      "metadata": {
        "colab": {
          "base_uri": "https://localhost:8080/",
          "height": 311
        },
        "id": "_qy4yznOH6rh",
        "outputId": "ff3da50a-18d5-4e83-cd72-ce76ec78aa36"
      },
      "execution_count": 55,
      "outputs": [
        {
          "output_type": "stream",
          "name": "stdout",
          "text": [
            "0.0020943951023931952\n"
          ]
        },
        {
          "output_type": "display_data",
          "data": {
            "text/plain": [
              "<Figure size 432x288 with 1 Axes>"
            ],
            "image/png": "[encoded data removed]"
          },
          "metadata": {
            "needs_background": "light"
          }
        },
        {
          "output_type": "stream",
          "name": "stdout",
          "text": [
            "1.7180701306074297e-12\n"
          ]
        }
      ]
    }
  ]
}