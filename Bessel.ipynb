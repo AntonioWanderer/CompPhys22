{
  "nbformat": 4,
  "nbformat_minor": 0,
  "metadata": {
    "colab": {
      "provenance": [],
      "collapsed_sections": [],
      "authorship_tag": "ABX9TyPMikTxlLwrPZkITS23Ka2b",
      "include_colab_link": true
    },
    "kernelspec": {
      "name": "python3",
      "display_name": "Python 3"
    },
    "language_info": {
      "name": "python"
    }
  },
  "cells": [
    {
      "cell_type": "markdown",
      "metadata": {
        "id": "view-in-github",
        "colab_type": "text"
      },
      "source": [
        "<a href=\"https://colab.research.google.com/github/AntonioWanderer/CompPhys22/blob/main/Bessel.ipynb\" target=\"_parent\"><img src=\"https://colab.research.google.com/assets/colab-badge.svg\" alt=\"Open In Colab\"/></a>"
      ]
    },
    {
      "cell_type": "code",
      "execution_count": 1,
      "metadata": {
        "id": "0H0RcRElEIdG"
      },
      "outputs": [],
      "source": [
        "from math import *\n",
        "import matplotlib.pyplot as plt"
      ]
    },
    {
      "cell_type": "code",
      "source": [
        "def bessel(m, t, x):\n",
        "  y = cos(m*t - x * sin(t))\n",
        "  return y"
      ],
      "metadata": {
        "id": "fpH0gr27EM_P"
      },
      "execution_count": 2,
      "outputs": []
    },
    {
      "cell_type": "code",
      "source": [
        "def J(m, x0, dx):\n",
        "  s=0\n",
        "  k = int(2*pi/dx)\n",
        "  for i in range(k):\n",
        "    s=s+(bessel(m,i*dx,x0)+bessel(m,(i+1)*dx,x0)+4*bessel(m,(i+0.5)*dx,x0))*dx/6\n",
        "    #s=s+(bessel(m,i*dx,x0)+bessel(m,(i+1)*dx,x0)+4*bessel(m,(i+0.5)*dx,x0))*dx/6\n",
        "  l = 2*s\n",
        "  return 1/pi*l"
      ],
      "metadata": {
        "id": "apWaKubTEmLh"
      },
      "execution_count": 3,
      "outputs": []
    },
    {
      "cell_type": "code",
      "source": [
        "def errFind(x, dx):\n",
        "  y = (-J(0,x-dx/2,dx)+J(0,x+dx/2,dx))/(dx) + J(1,x,dx)\n",
        "  #y = (-J(0,x-dx,dx)+J(0,x+dx,dx))/(2*dx) + J(1,x,dx)\n",
        "  return y"
      ],
      "metadata": {
        "id": "_VZyiDiiFjkI"
      },
      "execution_count": 4,
      "outputs": []
    },
    {
      "cell_type": "code",
      "source": [
        "dx = 2*pi/100000\n",
        "print(dx)\n",
        "ly = []\n",
        "lx = []\n",
        "steps = 10\n",
        "for i in range(steps):\n",
        "  x = 2*pi/steps*i\n",
        "  y = errFind(x, dx)\n",
        "  lx.append(x)\n",
        "  ly.append(y)\n",
        "plt.plot(lx,ly)\n",
        "plt.show()"
      ],
      "metadata": {
        "colab": {
          "base_uri": "https://localhost:8080/",
          "height": 293
        },
        "id": "_qy4yznOH6rh",
        "outputId": "9116312f-d97d-4831-adc6-053f7e938bf1"
      },
      "execution_count": 5,
      "outputs": [
        {
          "output_type": "stream",
          "name": "stdout",
          "text": [
            "6.283185307179586e-05\n"
          ]
        },
        {
          "output_type": "display_data",
          "data": {
            "text/plain": [
              "<Figure size 432x288 with 1 Axes>"
            ],
            "image/png": "[encoded data removed]"
          },
          "metadata": {
            "needs_background": "light"
          }
        }
      ]
    }
  ]
}