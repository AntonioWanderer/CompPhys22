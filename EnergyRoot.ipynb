{
  "nbformat": 4,
  "nbformat_minor": 0,
  "metadata": {
    "colab": {
      "provenance": [],
      "authorship_tag": "ABX9TyPYUInvwETUbJyNJQTiHKWx",
      "include_colab_link": true
    },
    "kernelspec": {
      "name": "python3",
      "display_name": "Python 3"
    },
    "language_info": {
      "name": "python"
    }
  },
  "cells": [
    {
      "cell_type": "markdown",
      "metadata": {
        "id": "view-in-github",
        "colab_type": "text"
      },
      "source": [
        "<a href=\"https://colab.research.google.com/github/AntonioWanderer/CompPhys22/blob/main/EnergyRoot.ipynb\" target=\"_parent\"><img src=\"https://colab.research.google.com/assets/colab-badge.svg\" alt=\"Open In Colab\"/></a>"
      ]
    },
    {
      "cell_type": "code",
      "execution_count": 1,
      "metadata": {
        "id": "8xyh7g46UurV"
      },
      "outputs": [],
      "source": [
        "import math as m\n",
        "import matplotlib.pyplot as plt"
      ]
    },
    {
      "cell_type": "code",
      "source": [
        "a=5\n",
        "u=10\n",
        "prec=10e-7\n",
        "c=2*a**2*u"
      ],
      "metadata": {
        "id": "anP9FEWoVQT7"
      },
      "execution_count": 2,
      "outputs": []
    },
    {
      "cell_type": "code",
      "source": [
        "def Func(x):\n",
        "    f=1/m.tan(m.sqrt(c*(1-x)))-m.sqrt(1/x-1)\n",
        "    return f\n",
        "    \n",
        "def Func1(x):\n",
        "    f=Func(x)+x#1/(1/m.tan(m.sqrt(c*(1-x)))**2 + 1)#1-1/c*(m.atan((x/(1-x))**0.5))**2#\n",
        "    return f\n",
        "\n",
        "def Fder(x):\n",
        "    f=(1+1/(m.tan(m.sqrt(c*(1-x))))**2)*c/(2*m.sqrt(c*(1-x)))+1/(2*x**2*m.sqrt(1/x-1))\n",
        "    return f"
      ],
      "metadata": {
        "id": "I3ibTt8vVVH2"
      },
      "execution_count": 3,
      "outputs": []
    },
    {
      "cell_type": "code",
      "source": [
        "x=1-(m.pi)**2/c\n",
        "if x<0:\n",
        "    x=0\n",
        "#print(x)"
      ],
      "metadata": {
        "id": "6uO5Oyx2VZeH"
      },
      "execution_count": 4,
      "outputs": []
    },
    {
      "cell_type": "code",
      "source": [
        "i=0\n",
        "l1=[x+prec]\n",
        "l2=[1-prec]\n",
        "f1=Func(l1[-1])\n",
        "f2=Func(l2[-1])\n",
        "while l2[-1]-l1[-1]>2*prec:\n",
        "    i=i+1\n",
        "    l3=(l1[-1]+l2[-1])/2\n",
        "    f3=Func(l3)\n",
        "    if f1*f3<0:\n",
        "        l2.append(l3)\n",
        "        l1.append(l1[-1])\n",
        "        f2=f3\n",
        "    else:\n",
        "        l1.append(l3)\n",
        "        l2.append(l2[-1])\n",
        "        f1=f3\n",
        "    #print(l1, l2)\n",
        "l1res=-l1[-1]*u\n",
        "l2res=-l2[-1]*u\n",
        "print(\"Dichotomy energy root: \", (l1res + l2res)/2,\"//\", i,\" steps\")\n",
        "plt.plot(l1)\n",
        "plt.plot(l2)\n",
        "plt.show()"
      ],
      "metadata": {
        "colab": {
          "base_uri": "https://localhost:8080/",
          "height": 282
        },
        "id": "w6_dhM-SVdMz",
        "outputId": "11bec228-95a5-4cec-eb63-3edfc2db7b04"
      },
      "execution_count": 5,
      "outputs": [
        {
          "output_type": "stream",
          "name": "stdout",
          "text": [
            "Dichotomy energy root:  -9.954784997540175 // 14  steps\n"
          ]
        },
        {
          "output_type": "display_data",
          "data": {
            "text/plain": [
              "<Figure size 432x288 with 1 Axes>"
            ],
            "image/png": "[encoded data removed]"
          },
          "metadata": {
            "needs_background": "light"
          }
        }
      ]
    },
    {
      "cell_type": "code",
      "source": [
        "i=0\n",
        "result = []\n",
        "z=x+prec\n",
        "t=(x+1)/2\n",
        "result.append(t)\n",
        "while abs(Func(t)-Func(z))>=prec:\n",
        "    i=i+1\n",
        "    z=t\n",
        "    t=z-Func(z)/Fder(z)\n",
        "    result.append(t)\n",
        "    #print(t)\n",
        "z=-z*u\n",
        "t=-t*u\n",
        "print(\"Newton's energy root: \", t,\"//\", i,\" steps\")\n",
        "plt.plot(result)\n",
        "plt.show()"
      ],
      "metadata": {
        "colab": {
          "base_uri": "https://localhost:8080/",
          "height": 282
        },
        "id": "ZgLDQxxSVhHN",
        "outputId": "ffb27f2d-ea2b-4cd1-8a79-7893bacb24c1"
      },
      "execution_count": 6,
      "outputs": [
        {
          "output_type": "stream",
          "name": "stdout",
          "text": [
            "Newton's energy root:  -9.954789352376942 // 5  steps\n"
          ]
        },
        {
          "output_type": "display_data",
          "data": {
            "text/plain": [
              "<Figure size 432x288 with 1 Axes>"
            ],
            "image/png": "[encoded data removed]"
          },
          "metadata": {
            "needs_background": "light"
          }
        }
      ]
    },
    {
      "cell_type": "code",
      "source": [
        "i=0\n",
        "result = [0,0]\n",
        "t=prec\n",
        "result.append(t)\n",
        "while True:\n",
        "    i=i+1\n",
        "    if (result[-1]-result[-2])**2/abs(2*result[-2]-result[-1]-result[-3])<=prec:\n",
        "    #if i == 10:\n",
        "    \tbreak\n",
        "    z=t\n",
        "    print(t)\n",
        "    t=Func1(z)\n",
        "    result.append(t)\n",
        "    #print(t)\n",
        "z=-z*u\n",
        "t=-t*u\n",
        "plt.plot(result)\n",
        "plt.show()\n",
        "print(\"Iterations energy root: \", t,\"//\", i,\" steps\")"
      ],
      "metadata": {
        "colab": {
          "base_uri": "https://localhost:8080/",
          "height": 293
        },
        "id": "Tv8n-ZRhVmRw",
        "outputId": "89073822-654b-4530-e789-4ef55c1c7120"
      },
      "execution_count": 7,
      "outputs": [
        {
          "output_type": "display_data",
          "data": {
            "text/plain": [
              "<Figure size 432x288 with 1 Axes>"
            ],
            "image/png": "[encoded data removed]"
          },
          "metadata": {
            "needs_background": "light"
          }
        },
        {
          "output_type": "stream",
          "name": "stdout",
          "text": [
            "Iterations energy root:  -9.999999999999999e-06 // 1  steps\n"
          ]
        }
      ]
    }
  ]
}