{
  "nbformat": 4,
  "nbformat_minor": 0,
  "metadata": {
    "colab": {
      "provenance": [],
      "collapsed_sections": [],
      "authorship_tag": "ABX9TyMz+3AVytVSEiDykge+Z4fl",
      "include_colab_link": true
    },
    "kernelspec": {
      "name": "python3",
      "display_name": "Python 3"
    },
    "language_info": {
      "name": "python"
    }
  },
  "cells": [
    {
      "cell_type": "markdown",
      "metadata": {
        "id": "view-in-github",
        "colab_type": "text"
      },
      "source": [
        "<a href=\"https://colab.research.google.com/github/AntonioWanderer/CompPhys22/blob/main/EnergyRoot.ipynb\" target=\"_parent\"><img src=\"https://colab.research.google.com/assets/colab-badge.svg\" alt=\"Open In Colab\"/></a>"
      ]
    },
    {
      "cell_type": "code",
      "execution_count": 166,
      "metadata": {
        "id": "8xyh7g46UurV"
      },
      "outputs": [],
      "source": [
        "from math import *\n",
        "import matplotlib.pyplot as plt"
      ]
    },
    {
      "cell_type": "code",
      "source": [
        "a=1\n",
        "u=100\n",
        "deg = 12\n",
        "prec=float(\"10e-\"+str(deg))\n",
        "c=2*a**2*u"
      ],
      "metadata": {
        "id": "anP9FEWoVQT7"
      },
      "execution_count": 167,
      "outputs": []
    },
    {
      "cell_type": "markdown",
      "source": [
        "a = hole's half of width\n",
        "\n",
        "u = hole's depth"
      ],
      "metadata": {
        "id": "lenkF4ghcYAB"
      }
    },
    {
      "cell_type": "code",
      "source": [
        "def Func(x):\n",
        "    f=1/tan(sqrt(c*(1-x)))-sqrt(1/x-1)\n",
        "    return f\n",
        "\n",
        "def Fder(x):\n",
        "    f=(1+1/(tan(sqrt(c*(1-x))))**2)*c/(2*sqrt(c*(1-x)))+1/(2*x**2*sqrt(1/x-1))\n",
        "    return f"
      ],
      "metadata": {
        "id": "I3ibTt8vVVH2"
      },
      "execution_count": 168,
      "outputs": []
    },
    {
      "cell_type": "markdown",
      "source": [
        "Our function Func(x) that's root we found\n",
        "![image.png](data:image/png;base64,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)"
      ],
      "metadata": {
        "id": "1IngFfqab66q"
      }
    },
    {
      "cell_type": "markdown",
      "source": [
        "Func(x) graph example for a=2, u = 12.5. Source https://www.wolframalpha.com\n",
        "\n",
        "![image.png](data:image/png;base64,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)"
      ],
      "metadata": {
        "id": "VAM_BAwQbDjq"
      }
    },
    {
      "cell_type": "code",
      "source": [
        "x=1-pi**2/c\n",
        "if x < 0:\n",
        "  x = 0\n",
        "print(x)"
      ],
      "metadata": {
        "colab": {
          "base_uri": "https://localhost:8080/"
        },
        "id": "6uO5Oyx2VZeH",
        "outputId": "befc3f0d-c2d3-4222-fd8f-7c338c5ac3f7"
      },
      "execution_count": 169,
      "outputs": [
        {
          "output_type": "stream",
          "name": "stdout",
          "text": [
            "0.9506519779945533\n"
          ]
        }
      ]
    },
    {
      "cell_type": "markdown",
      "source": [
        "Root localization problem: we need to find lowest energy level. In example we have 4 different values. How to localize range where only one smallest root is?\n",
        "\n",
        "1. Let's find Func(x) = infinity points:\n",
        "\n",
        "ctg(sqrt(c*(1-x))) = inf\n",
        "\n",
        "And x != 0\n",
        "\n",
        "Therefore\n",
        "\n",
        "sqrt(c*(1-x)) = pi * n\n",
        "\n",
        "for integer numbers n\n",
        "\n",
        "2. x values:\n",
        "\n",
        "x = 1 - (pi * n)**2/c\n",
        "\n",
        "And x < 1\n",
        "\n",
        "3. Highest x < 1:\n",
        "\n",
        "x = 1 - (pi * 1)**2/c\n",
        "\n",
        "4. x < 1\n",
        "\n",
        "5. Root localized!"
      ],
      "metadata": {
        "id": "5jWyJydIiCyf"
      }
    },
    {
      "cell_type": "markdown",
      "source": [
        "Okay, let's find energy level in interval (x,1) with precision prec\n",
        "\n",
        "First way is the dichotomy's method:"
      ],
      "metadata": {
        "id": "0QLy6I4Umqbm"
      }
    },
    {
      "cell_type": "code",
      "source": [
        "i=0 #steps counter\n",
        "l1=[x + prec] #list of left borders\n",
        "l2=[1-prec] #right borders\n",
        "# +/- prec to avoid infinity values\n",
        "f1=Func(l1[0])\n",
        "f2=Func(l2[0])\n",
        "while l2[-1]-l1[-1]>prec: #stop where root in interval +/- prec\n",
        "    i=i+1\n",
        "    l3=(l1[-1]+l2[-1])/2 #new point in the middle of interval\n",
        "    f3=Func(l3)\n",
        "    if f1*f3<0: #chosing left or right part in relation to Function's signs\n",
        "        l2.append(l3)\n",
        "        l1.append(l1[-1])\n",
        "        f2=f3\n",
        "    else:\n",
        "        l1.append(l3)\n",
        "        l2.append(l2[-1])\n",
        "        f1=f3\n",
        "    #print(l1, l2)\n",
        "print(l1[-1])\n",
        "l1res=-l1[-1]*u #real energy values counting\n",
        "l2res=-l2[-1]*u\n",
        "print(f\"Dichotomy energy root: {(l1res + l2res)/2} from {-u} depth \\n{i} steps\")\n",
        "#plt.xscale('log')\n",
        "plt.plot(l1) #step-by-step borders moving\n",
        "plt.plot(l2)\n",
        "plt.show()\n",
        "\n",
        "x1=(l1res + l2res)/2\n",
        "i1 = i"
      ],
      "metadata": {
        "colab": {
          "base_uri": "https://localhost:8080/",
          "height": 317
        },
        "id": "w6_dhM-SVdMz",
        "outputId": "ea31afe9-9973-40bc-ebed-f1c4db757fe4"
      },
      "execution_count": 170,
      "outputs": [
        {
          "output_type": "stream",
          "name": "stdout",
          "text": [
            "0.9892412420301359\n",
            "Dichotomy energy root: -98.92412420330083 from -100 depth \n",
            "33 steps\n"
          ]
        },
        {
          "output_type": "display_data",
          "data": {
            "text/plain": [
              "<Figure size 432x288 with 1 Axes>"
            ],
            "image/png": "[encoded data removed]"
          },
          "metadata": {
            "needs_background": "light"
          }
        }
      ]
    },
    {
      "cell_type": "markdown",
      "source": [
        "From Wolframalpha\n",
        "\n",
        "![изображение.png](data:image/png;base64,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)"
      ],
      "metadata": {
        "id": "DlsCTETsa68c"
      }
    },
    {
      "cell_type": "markdown",
      "source": [
        "Number of dichotomy's steps is log((1-x)/(2*prec))/log(2)\n",
        "\n",
        "We divides our interval by 2 in every step"
      ],
      "metadata": {
        "id": "2pHVkcCIsVxN"
      }
    },
    {
      "cell_type": "code",
      "source": [
        "i=0\n",
        "result = [0, 0]\n",
        "z=x+prec\n",
        "t=(x+1)/2\n",
        "result.append(t)\n",
        "while (result[-1]-result[-2])**2/abs(2*result[-2]-result[-1]-result[-3])>prec:\n",
        "    i=i+1\n",
        "    z=t\n",
        "    t=z-Func(z)/Fder(z)\n",
        "    result.append(t)\n",
        "    #print(t)\n",
        "z=-z*u\n",
        "t=-t*u\n",
        "print(\"Newton's energy root: \", t,\"//\", i,\" steps\")\n",
        "plt.plot(result)\n",
        "plt.show()\n",
        "x2 = t\n",
        "i2 = i"
      ],
      "metadata": {
        "colab": {
          "base_uri": "https://localhost:8080/",
          "height": 282
        },
        "id": "ZgLDQxxSVhHN",
        "outputId": "b026fb05-cdbf-46cc-ab3c-17418a7952e4"
      },
      "execution_count": 171,
      "outputs": [
        {
          "output_type": "stream",
          "name": "stdout",
          "text": [
            "Newton's energy root:  -98.9241242032678 // 5  steps\n"
          ]
        },
        {
          "output_type": "display_data",
          "data": {
            "text/plain": [
              "<Figure size 432x288 with 1 Axes>"
            ],
            "image/png": "[encoded data removed]"
          },
          "metadata": {
            "needs_background": "light"
          }
        }
      ]
    },
    {
      "cell_type": "markdown",
      "source": [
        "In newton's method we propose that 𝑓 (𝑥𝑛 ) ≈ 𝑓 ′ (𝑥* ) (𝑥𝑛 − 𝑥* ) + 12 𝑓 ′′ (𝑥* ) (𝑥𝑛 − 𝑥* )2\n",
        "\n",
        "x* is root that we found\n",
        "\n",
        "xn is x that we have in the step\n",
        "\n",
        "Then\n",
        "\n",
        "![изображение.png](data:image/png;base64,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)\n",
        "\n",
        "Error decreases as square \n",
        "\n",
        "![изображение.png](data:image/png;base64,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)"
      ],
      "metadata": {
        "id": "4IXLhB1zcBIN"
      }
    },
    {
      "cell_type": "code",
      "source": [
        "i=0\n",
        "result = [0.9,0.9]\n",
        "#!!!\n",
        "t=(1+x)/2\n",
        "result.append(t)\n",
        "while (result[-1]-result[-2])**2/abs(2*result[-2]-result[-1]-result[-3])>prec:\n",
        "#for _ in range(5):\n",
        "    i=i+1\n",
        "    z=t\n",
        "    lam = Fder(z)-1\n",
        "    print(t, lam)\n",
        "    t=z-1/lam*Func(z)\n",
        "    result.append(t)\n",
        "    #print(result, (result[-1]-result[-2])**2/abs(2*result[-2]-result[-1]-result[-3]))\n",
        "\n",
        "z=-z*u\n",
        "t=-t*u\n",
        "plt.plot(result)\n",
        "plt.show()\n",
        "print(\"Iterations energy root: \", t,\"//\", i,\" steps\")\n",
        "\n",
        "x3 = t\n",
        "i3 = i"
      ],
      "metadata": {
        "colab": {
          "base_uri": "https://localhost:8080/",
          "height": 387
        },
        "id": "Tv8n-ZRhVmRw",
        "outputId": "c57bfa63-675f-4ad6-d3a8-3f2f4ef58087"
      },
      "execution_count": 172,
      "outputs": [
        {
          "output_type": "stream",
          "name": "stdout",
          "text": [
            "0.9753259889972766 73.40534214802233\n",
            "0.9878629105494469 67.81702449800396\n",
            "0.9893089109080259 73.11327753874315\n",
            "0.9892404561858877 72.80894762410843\n",
            "0.9892412528446192 72.812454739631\n",
            "0.9892412418841912 72.81240648325586\n"
          ]
        },
        {
          "output_type": "display_data",
          "data": {
            "text/plain": [
              "<Figure size 432x288 with 1 Axes>"
            ],
            "image/png": "[encoded data removed]"
          },
          "metadata": {
            "needs_background": "light"
          }
        },
        {
          "output_type": "stream",
          "name": "stdout",
          "text": [
            "Iterations energy root:  -98.92412420347172 // 6  steps\n"
          ]
        }
      ]
    },
    {
      "cell_type": "markdown",
      "source": [
        "Iterations method with correcting multiplier 𝜆:\n",
        "\n",
        " 𝑥 = 𝑥 − 𝜆𝑓 (𝑥)\n",
        "\n",
        " not\n",
        "\n",
        " 𝑥 = 𝑥 + 𝑓 (𝑥) ≡ 𝜙(𝑥)\n",
        "\n",
        " "
      ],
      "metadata": {
        "id": "ZSfJjnm2n58f"
      }
    },
    {
      "cell_type": "code",
      "source": [
        "print(\"precision: e-\",deg, \"\\n\", round(-x1/u, deg), i1, \"\\n\", round(-x2/u, deg), i2, \"\\n\", round(-x3/u, deg), i3, \"\\n\")\n"
      ],
      "metadata": {
        "colab": {
          "base_uri": "https://localhost:8080/"
        },
        "id": "kEpw64q4lg-X",
        "outputId": "eac865da-c055-4dfc-f2cd-7c9ffebbbc29"
      },
      "execution_count": 173,
      "outputs": [
        {
          "output_type": "stream",
          "name": "stdout",
          "text": [
            "precision: e- 12 \n",
            " 0.989241242033 33 \n",
            " 0.989241242033 5 \n",
            " 0.989241242035 6 \n",
            "\n"
          ]
        }
      ]
    }
  ]
}